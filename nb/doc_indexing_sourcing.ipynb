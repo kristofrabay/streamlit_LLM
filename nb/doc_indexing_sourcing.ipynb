{
 "cells": [
  {
   "attachments": {},
   "cell_type": "markdown",
   "metadata": {},
   "source": [
    "## Communicating with own knowledge base using `OpenAI`"
   ]
  },
  {
   "cell_type": "code",
   "execution_count": 1,
   "metadata": {},
   "outputs": [],
   "source": [
    "import credentials\n",
    "import time\n",
    "import re\n",
    "from copy import deepcopy\n",
    "import shutil\n",
    "import glob\n",
    "import os\n",
    "os.environ[\"OPENAI_API_KEY\"] = credentials.openai_api\n",
    "\n",
    "import openai\n",
    "import tiktoken\n",
    "encoding = tiktoken.get_encoding(\"cl100k_base\")\n",
    "\n",
    "from langchain.embeddings.openai import OpenAIEmbeddings\n",
    "from langchain.vectorstores import FAISS, Chroma\n",
    "from langchain.text_splitter import RecursiveCharacterTextSplitter, Language\n",
    "from langchain.document_loaders import PyPDFLoader, UnstructuredHTMLLoader\n",
    "\n",
    "from langchain.chains.summarize import load_summarize_chain\n",
    "from langchain.chat_models import ChatOpenAI\n",
    "from langchain.docstore.document import Document"
   ]
  },
  {
   "cell_type": "code",
   "execution_count": null,
   "metadata": {},
   "outputs": [],
   "source": []
  },
  {
   "attachments": {},
   "cell_type": "markdown",
   "metadata": {},
   "source": [
    "### VectorDB from documents"
   ]
  },
  {
   "cell_type": "code",
   "execution_count": 2,
   "metadata": {},
   "outputs": [],
   "source": [
    "path = '../docs/'\n",
    "docs = []\n",
    "\n",
    "#### USING PDF DIR LOADER - CANNOT SET SPLITTING ####\n",
    "#loader = PyPDFDirectoryLoader(path)\n",
    "#docs = loader.load()\n",
    "\n",
    "\n",
    "#### USING SIMPLE PDF LOADER IN LOOP - SETTING SPLITTING ####\n",
    "text_splitter = RecursiveCharacterTextSplitter(chunk_size = 1500, chunk_overlap = 200)\n",
    "list_of_pdf_files = glob.glob(path + \"*.pdf\")\n",
    "\n",
    "for pdf_file in list_of_pdf_files:\n",
    "    pdf_loaded = PyPDFLoader(pdf_file).load_and_split(text_splitter = text_splitter)\n",
    "    docs.extend(pdf_loaded)\n",
    "\n",
    "\n",
    "#### LOAD & SPLIT HTML CONTENT ####\n",
    "html_splitter = RecursiveCharacterTextSplitter.from_language(language=Language.MARKDOWN, chunk_size=1500, chunk_overlap=200)\n",
    "list_of_html_files = glob.glob(path + \"*.html\")\n",
    "\n",
    "for html_file in list_of_html_files:\n",
    "    html_loaded = UnstructuredHTMLLoader(html_file).load_and_split(text_splitter = html_splitter)\n",
    "    docs.extend(html_loaded)\n"
   ]
  },
  {
   "cell_type": "code",
   "execution_count": 3,
   "metadata": {},
   "outputs": [
    {
     "data": {
      "text/plain": [
       "649"
      ]
     },
     "execution_count": 3,
     "metadata": {},
     "output_type": "execute_result"
    }
   ],
   "source": [
    "len(docs)"
   ]
  },
  {
   "cell_type": "code",
   "execution_count": 4,
   "metadata": {},
   "outputs": [],
   "source": [
    "docs_original = deepcopy(docs)"
   ]
  },
  {
   "cell_type": "code",
   "execution_count": 5,
   "metadata": {},
   "outputs": [],
   "source": [
    "# trick to help with context\n",
    "# add to each page the document name\n",
    "\n",
    "for i in docs:\n",
    "    i.page_content = i.metadata['source'].split(\"\\\\\")[-1].split('.')[0] + ' --- ' + i.page_content"
   ]
  },
  {
   "cell_type": "code",
   "execution_count": 6,
   "metadata": {},
   "outputs": [],
   "source": [
    "### to handle heterogenity of datasources, need to append page information to non-PDF and doc files\n",
    "\n",
    "for i in docs:\n",
    "    if 'page' not in i.metadata.keys():\n",
    "        i.metadata['page'] = 'ALL'"
   ]
  },
  {
   "cell_type": "code",
   "execution_count": null,
   "metadata": {},
   "outputs": [],
   "source": []
  },
  {
   "cell_type": "code",
   "execution_count": null,
   "metadata": {},
   "outputs": [],
   "source": []
  },
  {
   "attachments": {},
   "cell_type": "markdown",
   "metadata": {},
   "source": [
    "Apply OpenAI Embedder"
   ]
  },
  {
   "cell_type": "code",
   "execution_count": 140,
   "metadata": {},
   "outputs": [],
   "source": [
    "embeddings = OpenAIEmbeddings()\n",
    "persist_dir = \"../docs/persist_dir/\"\n",
    "if os.path.exists(persist_dir): \n",
    "    shutil.rmtree(persist_dir)\n",
    "    os.makedirs(persist_dir)\n",
    "\n",
    "db = FAISS.from_documents(docs, embeddings)\n",
    "db.save_local(persist_dir)\n",
    "\n",
    "#db = Chroma.from_documents(docs, embeddings, persist_directory=persist_dir)\n",
    "#db.persist()"
   ]
  },
  {
   "cell_type": "code",
   "execution_count": 141,
   "metadata": {},
   "outputs": [
    {
     "data": {
      "text/plain": [
       "649"
      ]
     },
     "execution_count": 141,
     "metadata": {},
     "output_type": "execute_result"
    }
   ],
   "source": [
    "db.index.ntotal"
   ]
  },
  {
   "cell_type": "code",
   "execution_count": 142,
   "metadata": {},
   "outputs": [
    {
     "data": {
      "text/plain": [
       "[Document(page_content=\"Booking --- 3. Some Bookings can’t be canceled for free, while others can only be canceled for free before a deadline.\\n\\n4. If you book a Travel Experience by paying in advance (including all price components and/or a damage deposit if applicable), the Service Provider may cancel the Booking without notice if they can't collect the balance on the date specified. If they do, any non-refundable payment you’ve made will only be refunded at their discretion. It's your responsibility to make sure the payment goes through on time, that your bank, debit card, or credit card details are correct, and that there's enough money available in your account.\\n\\n5. If you think you won’t arrive on time, contact your Service Provider and tell them when they can expect you so they don't cancel your Booking. If you’re late, we are not liable for the consequences (e.g. the cancellation of your Booking or any fees the Service Provider may charge).\\n\\n6. As the person making the Booking, you are responsible for the actions and behavior (in relation to the Travel Experience) of everyone in the group. You’re also responsible for obtaining their permission before providing us with their personal data.\\n\\nA9. Privacy and cookies\\n\\n1. If you book an accommodation, flight, or attraction, read our \\n\\nPrivacy and Cookie Notice for more info on privacy, cookies, and how we might contact you and process personal data\", metadata={'source': '../docs\\\\Booking.com_ Terms and Conditions..html', 'page': 'ALL'}),\n",
       " Document(page_content='Booking --- Car rentals\\n\\n\\n\\n\\n\\n\\nYour reservation is covered by our previous terms of service for car rentals\\n\\nAirport taxis\\n\\n\\n\\n\\n\\n\\nYour reservation is covered by our previous terms of service for airport taxis\\n\\nList your property\\n\\nMobile version\\n\\nYour account\\n\\nMake changes online to your booking\\n\\nCustomer Service Help\\n\\nBecome an affiliate\\n\\nBooking.com for Business\\n\\nCountries\\n\\nRegions\\n\\nCities\\n\\nDistricts\\n\\nAirports\\n\\nHotels\\n\\nPlaces of interest\\n\\nHomes\\n\\nApartments\\n\\nResorts\\n\\nVillas\\n\\nHostels\\n\\nB&Bs\\n\\nGuest houses\\n\\nUnique places to stay\\n\\nReviews\\n\\nDiscover monthly stays\\n\\nUnpacked: Travel articles\\n\\nSeasonal and holiday deals\\n\\nTraveller Review Awards\\n\\nCar rental\\n\\nFlight finder\\n\\nRestaurant reservations\\n\\nBooking.com for Travel Agents\\n\\nCoronavirus (COVID-19) FAQs\\n\\nAbout Booking.com\\n\\nCustomer Service Help\\n\\nPartner help\\n\\nCareers\\n\\nSustainability\\n\\nPress Center\\n\\nSafety Resource Center\\n\\nInvestor relations\\n\\nTerms & Conditions\\n\\nPartner dispute\\n\\nHow We Work\\n\\nPrivacy & cookie statement\\n\\nCookie Settings\\n\\n\\nManage cookie settings\\n\\nMSA statement\\n\\nCorporate contact\\n\\nContent guidelines\\n\\nExtranet Log-in\\n\\nCopyright © 1996–2023\\nBooking.com™. All rights reserved.\\n\\nBooking.com is part of Booking Holdings Inc., the world leader in online travel and related services.\\n\\n\\n\\n\\n\\n\\n\\n\\n\\n\\n\\n\\n\\nStart of dialog content\\n\\nVerified reviews from real guests.\\n\\nWe have more than 70 million property reviews, all from real, verified guests.\\n\\nHow does it work?\\n\\n1', metadata={'source': '../docs\\\\Booking.com_ Terms and Conditions..html', 'page': 'ALL'})]"
      ]
     },
     "execution_count": 142,
     "metadata": {},
     "output_type": "execute_result"
    }
   ],
   "source": [
    "#query = 'Are dogs allowed on WizzAir?'\n",
    "query = 'What is Booking.com cancellation policy?'\n",
    "\n",
    "query_embedded = embeddings.embed_query(query)\n",
    "\n",
    "### as chuck size is smaller, we can include more relevant results in the PROMPT\n",
    "\n",
    "#sim_docs = db.similarity_search_with_score(query, k = 5) #score the lower the better for FAISS (L2)\n",
    "#sim_docs = db.similarity_search_with_score_by_vector(query_embedded, k = 5)\n",
    "sim_docs = db.max_marginal_relevance_search_by_vector(query_embedded, k = 5)\n",
    "\n",
    "#sim_docs = db.similarity_search_with_score(query) # for some reason even for cos_sim the lower here the better (probably inverted for minimization)\n",
    "#sim_docs = db.max_marginal_relevance_search_by_vector(query_embedded)\n",
    "\n",
    "sim_docs[:2]"
   ]
  },
  {
   "cell_type": "code",
   "execution_count": null,
   "metadata": {},
   "outputs": [],
   "source": []
  },
  {
   "attachments": {},
   "cell_type": "markdown",
   "metadata": {},
   "source": [
    "### Construct prompt with sources"
   ]
  },
  {
   "cell_type": "code",
   "execution_count": 7,
   "metadata": {},
   "outputs": [],
   "source": [
    "def ChatOAI(user_input = \"Add two numbers and return their 4th log\",\n",
    "            model = 'gpt-3.5-turbo'):\n",
    "    \n",
    "    PROMPT = \"\"\"\n",
    "    Act as en experienced senior Python software engineer and data scientist.\n",
    "    Your job is to write a function given a user's instruction.\n",
    "    Include basic documentation and comments to explain the steps.\n",
    "    If needed, provide parameter type and range expectations.\n",
    "    Your function should look like it was written by a senior data scientist.\n",
    "\n",
    "    Instruction: {instruction}\n",
    "\n",
    "    Answer:\n",
    "    \n",
    "    \"\"\"\n",
    "    \n",
    "    message = [{'role' : 'user', 'content' : PROMPT.format(instruction = user_input)}]\n",
    "    \n",
    "    completion = openai.ChatCompletion.create(\n",
    "        model=model, \n",
    "        messages=message, \n",
    "        temperature=0.0)\n",
    "    \n",
    "    return completion.choices[0]['message']['content']"
   ]
  },
  {
   "cell_type": "code",
   "execution_count": null,
   "metadata": {},
   "outputs": [],
   "source": []
  },
  {
   "cell_type": "code",
   "execution_count": null,
   "metadata": {},
   "outputs": [],
   "source": []
  },
  {
   "cell_type": "code",
   "execution_count": null,
   "metadata": {},
   "outputs": [],
   "source": []
  },
  {
   "cell_type": "code",
   "execution_count": 10,
   "metadata": {},
   "outputs": [
    {
     "name": "stdout",
     "output_type": "stream",
     "text": [
      "```python\n",
      "def trim_string_until_zero(s: str) -> str:\n",
      "    \"\"\"\n",
      "    This function checks a string, and until it starts with a zero, \n",
      "    it removes 1 character from the beginning and the end until the starting character is not zero.\n",
      "\n",
      "    Parameters:\n",
      "    s (str): The input string. It is expected to be a non-empty string.\n",
      "\n",
      "    Returns:\n",
      "    str: The trimmed string that starts with a zero.\n",
      "\n",
      "    \"\"\"\n",
      "    \n",
      "    # Check if the input string is empty\n",
      "    if not s:\n",
      "        raise ValueError(\"Input string cannot be empty\")\n",
      "    \n",
      "    # While the first character of the string is not '0'\n",
      "    while s and s[0] != '0':\n",
      "        # Remove the first and the last character from the string\n",
      "        s = s[1:-1]\n",
      "        \n",
      "    return s\n",
      "```\n",
      "\n",
      "This function uses Python's string slicing feature to remove the first and the last character from the string. The while loop continues until the first character of the string is '0' or the string is empty. If the string becomes empty during the process, it means that there was no '0' at the beginning of the string, and the function will return an empty string.\n"
     ]
    }
   ],
   "source": [
    "instruction = \"\"\"\n",
    "Write a function that checks a string, and until it starts with a zero, it removes 1 character from the beginning and the end until the starting character is not zero\n",
    "\"\"\"\n",
    "\n",
    "completion = ChatOAI(user_input=instruction, model = 'gpt-4')\n",
    "\n",
    "print(completion)"
   ]
  },
  {
   "cell_type": "code",
   "execution_count": null,
   "metadata": {},
   "outputs": [],
   "source": []
  },
  {
   "cell_type": "code",
   "execution_count": null,
   "metadata": {},
   "outputs": [],
   "source": []
  },
  {
   "cell_type": "code",
   "execution_count": null,
   "metadata": {},
   "outputs": [],
   "source": []
  },
  {
   "cell_type": "code",
   "execution_count": null,
   "metadata": {},
   "outputs": [],
   "source": []
  },
  {
   "cell_type": "code",
   "execution_count": null,
   "metadata": {},
   "outputs": [],
   "source": []
  },
  {
   "cell_type": "code",
   "execution_count": null,
   "metadata": {},
   "outputs": [],
   "source": []
  },
  {
   "cell_type": "code",
   "execution_count": null,
   "metadata": {},
   "outputs": [],
   "source": []
  },
  {
   "cell_type": "code",
   "execution_count": null,
   "metadata": {},
   "outputs": [],
   "source": []
  },
  {
   "attachments": {},
   "cell_type": "markdown",
   "metadata": {},
   "source": [
    "#### ChatGPT code - packed into function"
   ]
  },
  {
   "cell_type": "code",
   "execution_count": 7,
   "metadata": {},
   "outputs": [
    {
     "ename": "NameError",
     "evalue": "name 'db' is not defined",
     "output_type": "error",
     "traceback": [
      "\u001b[1;31m---------------------------------------------------------------------------\u001b[0m",
      "\u001b[1;31mNameError\u001b[0m                                 Traceback (most recent call last)",
      "Cell \u001b[1;32mIn[7], line 5\u001b[0m\n\u001b[0;32m      1\u001b[0m \u001b[39m#history = []\u001b[39;00m\n\u001b[0;32m      3\u001b[0m \u001b[39mdef\u001b[39;00m \u001b[39mAsk_Your_Knowledge_Base\u001b[39m(user_input \u001b[39m=\u001b[39m \u001b[39m\"\u001b[39m\u001b[39mWhat is RyanAir\u001b[39m\u001b[39m'\u001b[39m\u001b[39ms cancellation policy?\u001b[39m\u001b[39m\"\u001b[39m,\n\u001b[0;32m      4\u001b[0m                             model \u001b[39m=\u001b[39m \u001b[39m'\u001b[39m\u001b[39mgpt-3.5-turbo\u001b[39m\u001b[39m'\u001b[39m,\n\u001b[1;32m----> 5\u001b[0m                             db \u001b[39m=\u001b[39m db,\n\u001b[0;32m      6\u001b[0m                             embeddings \u001b[39m=\u001b[39m embeddings):\n\u001b[0;32m      7\u001b[0m     \n\u001b[0;32m      8\u001b[0m     \u001b[39m# history_list = history\u001b[39;00m\n\u001b[0;32m      9\u001b[0m     \u001b[39m### This function does not have memory, meaning follow-up capabilities are not yet implemented\u001b[39;00m\n\u001b[0;32m     10\u001b[0m     \u001b[39m### Every question is a 'new' context\u001b[39;00m\n\u001b[0;32m     11\u001b[0m \n\u001b[0;32m     12\u001b[0m \n\u001b[0;32m     13\u001b[0m     \u001b[39m#### PROMPT PARTS ####\u001b[39;00m\n\u001b[0;32m     15\u001b[0m     PROMPT \u001b[39m=\u001b[39m \u001b[39m\"\"\"\u001b[39m\n\u001b[0;32m     16\u001b[0m \u001b[39m    You are an intelligent assistant helping humans with their questions related to a wide variety of documents. \u001b[39m\n\u001b[0;32m     17\u001b[0m \u001b[39m    Answer ONLY with the facts listed in the list of sources below. \u001b[39m\n\u001b[1;32m   (...)\u001b[0m\n\u001b[0;32m     29\u001b[0m \u001b[39m    \u001b[39m\n\u001b[0;32m     30\u001b[0m \u001b[39m    \u001b[39m\u001b[39m\"\"\"\u001b[39m\n\u001b[0;32m     33\u001b[0m     \u001b[39m#### PROCESS QUERY; RUN SIMILARITY SEARCH ####\u001b[39;00m\n",
      "\u001b[1;31mNameError\u001b[0m: name 'db' is not defined"
     ]
    }
   ],
   "source": [
    "#history = []\n",
    "\n",
    "def Ask_Your_Knowledge_Base(user_input = \"What is RyanAir's cancellation policy?\",\n",
    "                            model = 'gpt-3.5-turbo',\n",
    "                            db = db,\n",
    "                            embeddings = embeddings):\n",
    "    \n",
    "    # history_list = history\n",
    "    ### This function does not have memory, meaning follow-up capabilities are not yet implemented\n",
    "    ### Every question is a 'new' context\n",
    "\n",
    "\n",
    "    #### PROMPT PARTS ####\n",
    "\n",
    "    PROMPT = \"\"\"\n",
    "    You are an intelligent assistant helping humans with their questions related to a wide variety of documents. \n",
    "    Answer ONLY with the facts listed in the list of sources below. \n",
    "    If there isn't enough information below, say you don't know. Do not generate answers that don't use the sources below. \n",
    "    If asking a clarifying question to the user would help, ask the question. \n",
    "    Each source has a name followed by colon and the actual information, always include the source name for each fact you use in the response. \n",
    "    Use square brackets to reference the source, e.g. [info1.txt]. Don't combine sources, list each source separately, e.g. [info1.txt][info2.pdf].\n",
    "\n",
    "    Sources:\n",
    "    {sources}\n",
    "\n",
    "    Question: {question}\n",
    "\n",
    "    Answer:\n",
    "    \n",
    "    \"\"\"\n",
    "\n",
    "\n",
    "    #### PROCESS QUERY; RUN SIMILARITY SEARCH ####\n",
    "\n",
    "    query_embedded = embeddings.embed_query(user_input)\n",
    "\n",
    "    #search = user_input\n",
    "    #print(\"Searching:\", search)\n",
    "    #print(\"-------------------\")\n",
    "\n",
    "    sim_docs = db.max_marginal_relevance_search_by_vector(query_embedded, k = 5)\n",
    "    results = [doc.metadata['source'].split(\"\\\\\")[-1] + \"-page-\" + str(doc.metadata['page'] )+ \": \" + doc.page_content.replace(\"\\n\", \"\").replace(\"\\r\", \"\") for doc in sim_docs]\n",
    "    content = \"\\n\".join(results)\n",
    "\n",
    "\n",
    "    #### CRAFT MESSAGE TO CHATCOMPLETION ####\n",
    "\n",
    "    message = [{'role' : 'user', 'content' : PROMPT.format(sources = content, question = user_input)}]\n",
    "    \n",
    "\n",
    "    #### CALL CHATGPT API ####\n",
    "\n",
    "    completion = openai.ChatCompletion.create(\n",
    "        model=model, \n",
    "        messages=message, \n",
    "        temperature=0.0, \n",
    "        max_tokens=512,)\n",
    "    \n",
    "\n",
    "    #### APPEND TO HISTORY ####\n",
    "    #history_list.append(\"Human: \" + user_input)\n",
    "    #history_list.append(\"AI: \" + completion.choices[0]['message']['content'])\n",
    "    #print(\"\\n-------------------\\n\".join(history_list))  \n",
    "    #  \n",
    "    return completion.choices[0]['message']['content']"
   ]
  },
  {
   "cell_type": "code",
   "execution_count": 162,
   "metadata": {},
   "outputs": [
    {
     "data": {
      "text/plain": [
       "\"If RyanAir cancels a flight, fails to operate the flight according to schedule, or cancels the route, passengers may be entitled to rights set out in the Montreal Convention 1999 or the applicable Passenger Rights Regulations. If a flight is cancelled or delayed by two hours or more, RyanAir will provide information on passengers' rights to compensation and assistance. If a passenger cancels their booking up to 14 days prior to the scheduled time of departure of their flight, they will be entitled to a refund of the total fare after deduction of the cancellation fee. If a passenger cancels their booking within 14 days prior to the scheduled time of departure of their flight, they will be refunded the amount of the total fare after deduction of the fee for other services and the seat protection fee. [ryanair_conditions.pdf-page-16][ryanair_conditions.pdf-page-114][wizzair_conditions.pdf-page-18]\""
      ]
     },
     "execution_count": 162,
     "metadata": {},
     "output_type": "execute_result"
    }
   ],
   "source": [
    "Ask_Your_Knowledge_Base()"
   ]
  },
  {
   "cell_type": "code",
   "execution_count": 15,
   "metadata": {},
   "outputs": [
    {
     "name": "stdout",
     "output_type": "stream",
     "text": [
      "Recognised Assistance Dogs are allowed on WizzAir flights with no additional fee, subject to a limit of one dog per passenger/flight. However, therapy dogs or any emotional support animals are not allowed. The passenger needs to inform WizzAir at least 48 hours before the scheduled departure and provide official documentation confirming that the dog meets the requirements of the Hungarian SZMM decree of 27/2009 and EU Pet Travel Scheme Regulation and the vaccination and treatment requirements of the country they are traveling to. [wizzair_conditions.pdf-page-22][wizzair_conditions.pdf-page-29][wizzair_conditions.pdf-page-37]\n"
     ]
    }
   ],
   "source": [
    "Ask_Your_Knowledge_Base('Are dogs allowed on WizzAir?')"
   ]
  },
  {
   "cell_type": "code",
   "execution_count": 16,
   "metadata": {},
   "outputs": [
    {
     "name": "stdout",
     "output_type": "stream",
     "text": [
      "If you cancel, miss or do not take your flight, this does not affect the other flights on your Booking. You can claim a full refund of Government Tax (as listed in Fees and Charges) for the flight(s) you do not take. You can do this by contacting their Customer Services Team. They will only pay refunds to the Booker using the original payment method or original easyJet account, as applicable. If the original payment method or account is no longer available, they will refund to an alternative payment method in the Booker’s name. If you have booked through an Agent, they will be responsible for passing on any refund to you. They are not responsible for any fees the Agent may apply for processing the refund. Refunds will normally be made in the original currency in which the Booking was made. [easyjet_conditions.pdf-page-6]\n"
     ]
    }
   ],
   "source": [
    "Ask_Your_Knowledge_Base(\"What is Easy Jet's refund policy?\")"
   ]
  },
  {
   "cell_type": "code",
   "execution_count": 17,
   "metadata": {},
   "outputs": [
    {
     "name": "stdout",
     "output_type": "stream",
     "text": [
      "No, you cannot carry a gun on Ryanair. Guns are not listed as an item that can be carried on board [ryanair_conditions.pdf-page-11][ryanair_conditions.pdf-page-13]. Additionally, items that could be used as a weapon, such as knives, are prohibited [wizzair_conditions.pdf-page-36].\n"
     ]
    }
   ],
   "source": [
    "Ask_Your_Knowledge_Base('Can I carry a gun on RyanAir?')"
   ]
  },
  {
   "cell_type": "code",
   "execution_count": 18,
   "metadata": {},
   "outputs": [
    {
     "name": "stdout",
     "output_type": "stream",
     "text": [
      "According to the Terms of Service on the Airbnb Help Center [Terms of Service - Airbnb Help Center.html-page-ALL], the cancellation policy that applies to a reservation depends on the situation. If something outside of your control requires you to cancel a reservation, you may be entitled to a partial or full refund under the Extenuating Circumstances Policy. If the host cancels or you experience a Travel Issue, you may be entitled to rebooking assistance or a partial or full refund under the Rebooking and Refund Policy. Different policies apply to certain categories of listings. It is recommended to check each Additional Legal Term or Policy for details about what is covered and what refund applies in each situation. There is no specific information about how far in advance you can cancel.\n"
     ]
    }
   ],
   "source": [
    "Ask_Your_Knowledge_Base('How far in advance can I cancel on AirBNB?')"
   ]
  },
  {
   "cell_type": "code",
   "execution_count": 19,
   "metadata": {},
   "outputs": [
    {
     "name": "stdout",
     "output_type": "stream",
     "text": [
      "If you cannot travel and you have booked additional travel services for your trip or vacation via a link provided to you by Booking.com no later than 24 hours after receiving confirmation of your initial Booking with them, you will not benefit from rights applying to packages under the EU’s Directive (EU) 2015/2302 or the UK's Package Travel and Linked Travel Arrangements Regulations 2018. Therefore, Booking.com will not be responsible for the proper performance of those travel services. For any issues, contact the relevant Service Provider. If you want to apply for a refund, you must do so in writing no more than 14 days after your pick-up time. [Booking.com_ Terms and Conditions..html-page-ALL]\n"
     ]
    }
   ],
   "source": [
    "Ask_Your_Knowledge_Base('If I cannot travel, does Booking.com offer refunds?')"
   ]
  },
  {
   "cell_type": "code",
   "execution_count": null,
   "metadata": {},
   "outputs": [],
   "source": []
  },
  {
   "attachments": {},
   "cell_type": "markdown",
   "metadata": {},
   "source": [
    "## Summarization prompts"
   ]
  },
  {
   "cell_type": "code",
   "execution_count": 8,
   "metadata": {},
   "outputs": [
    {
     "data": {
      "text/plain": [
       "['../docs\\\\Booking.com_ Terms and Conditions..html',\n",
       " '../docs\\\\easyjet_conditions.pdf',\n",
       " '../docs\\\\ryanair_conditions.pdf',\n",
       " '../docs\\\\Terms of Service - Airbnb Help Center.html',\n",
       " '../docs\\\\wizzair_conditions.pdf']"
      ]
     },
     "execution_count": 8,
     "metadata": {},
     "output_type": "execute_result"
    }
   ],
   "source": [
    "glob.glob(path + \"*.*\")"
   ]
  },
  {
   "cell_type": "code",
   "execution_count": 127,
   "metadata": {},
   "outputs": [],
   "source": [
    "def Summarize_Short_Doc(input_doc = '',  model = 'gpt-3.5-turbo'):\n",
    "\n",
    "    #### PROMPT PARTS ####\n",
    "\n",
    "    PROMPT = \"\"\"\n",
    "    Given the below document, your job is to create a summary of the text.\n",
    "    Do not add any of your internal knowledge to the context.\n",
    "    Feel free to create longer summaries, including all relevant information found in the original text.\n",
    "\n",
    "    Document: {document}\n",
    "\n",
    "    Summary:\n",
    "    \n",
    "    \"\"\"\n",
    "\n",
    "    message = [{\"role\": \"system\", \"content\": \"You are an intelligent assistant helping humans understand contents of long documents.\"},\n",
    "               {'role' : 'user', 'content' : PROMPT.format(document = input_doc)}]\n",
    "    \n",
    "\n",
    "    #### CALL CHATGPT API ####\n",
    "\n",
    "    completion = openai.ChatCompletion.create(\n",
    "        model=model, \n",
    "        messages=message, \n",
    "        temperature=0.0, \n",
    "        max_tokens=1024,)\n",
    "    \n",
    "    return completion.choices[0]['message']['content']\n",
    "    \n",
    "    \n",
    "    \n",
    "def Summarize_Given_Document(input_doc = '',\n",
    "                             model = 'gpt-3.5-turbo',\n",
    "                             temperature = 0.0,\n",
    "                             docs_original = docs_original,\n",
    "                             tiktoken_encoding = encoding):\n",
    "    \n",
    "    llm_summ = ChatOpenAI(model_name=model, temperature=temperature)\n",
    "    chain = load_summarize_chain(llm_summ, chain_type=\"map_reduce\")\n",
    "\n",
    "    if input_doc not in glob.glob(path + \"*.*\"):\n",
    "        print('Document not found - choose existing document')\n",
    "        return\n",
    "\n",
    "    WHOLE_DOC = ' '.join([i.page_content for i in docs_original if i.metadata['source'] == input_doc])\n",
    "    input_tokens = tiktoken_encoding.encode(WHOLE_DOC)\n",
    "\n",
    "    print('Given', str(len(input_tokens)), 'number of input tokens we should expect a summary in', str(round(len(input_tokens) / 1000 * 4.2 / 60, 2)), 'minutes')\n",
    "    print('Approximate cost:', str(round(0.0015 * len(input_tokens) / 1000, 5)), 'USD')\n",
    "\n",
    "    want_to_continue = input('Do you want to proceed? (y | n)', )\n",
    "    if want_to_continue == 'n':\n",
    "        print('Stopping before calling OpenAI API')\n",
    "        return\n",
    "\n",
    "    if len(input_tokens) <= 2700:\n",
    "        summary = Summarize_Short_Doc(input_doc)\n",
    "\n",
    "    else:\n",
    "        text_splitter_for_summ = RecursiveCharacterTextSplitter(chunk_size = 7500, chunk_overlap = 200)\n",
    "        texts_for_summ = text_splitter_for_summ.split_text(WHOLE_DOC)\n",
    "        docs_for_summ = [Document(page_content=t) for t in texts_for_summ]\n",
    "        #summary = chain.run(docs_for_summ)\n",
    "        summary = ' '\n",
    "\n",
    "        return summary"
   ]
  },
  {
   "cell_type": "code",
   "execution_count": 130,
   "metadata": {},
   "outputs": [
    {
     "name": "stdout",
     "output_type": "stream",
     "text": [
      "Given 25469 number of input tokens we should expect a summary in 1.78 minutes\n",
      "Approximate cost: 0.0382 USD\n"
     ]
    }
   ],
   "source": [
    "easyjet_summary = Summarize_Given_Document(input_doc=r\"../docs\\easyjet_conditions.pdf\")"
   ]
  },
  {
   "cell_type": "code",
   "execution_count": 126,
   "metadata": {},
   "outputs": [
    {
     "data": {
      "text/plain": [
       "\"EasyJet's terms and conditions cover bookings, cancellations, refunds, changes, baggage, conduct, liability, and claims. Passengers must comply with policies and regulations, and EasyJet reserves the right to refuse carriage or take action to protect their systems. Passengers are responsible for their children and must provide accurate information. EasyJet is not liable for missed flights or costs incurred, except as set out in section 5.4. Passengers must check-in online and arrive at the airport in advance. EasyJet's liability is governed by the rules and limitations under the Convention, unless such carriage is not international carriage to which the Convention applies, in which case any other Applicable Law shall apply. Passengers must have adequate travel insurance and claims must be made in writing with supporting documentation. EasyJet controls the processing of personal data and is governed by the laws of England and Wales.\""
      ]
     },
     "execution_count": 126,
     "metadata": {},
     "output_type": "execute_result"
    }
   ],
   "source": [
    "easyjet_summary"
   ]
  },
  {
   "cell_type": "code",
   "execution_count": 132,
   "metadata": {},
   "outputs": [
    {
     "name": "stdout",
     "output_type": "stream",
     "text": [
      "Given 87948 number of input tokens we should expect a summary in 6.16 minutes\n",
      "Approximate cost: 0.13192 USD\n"
     ]
    },
    {
     "name": "stdout",
     "output_type": "stream",
     "text": [
      "Stopping before calling OpenAI API\n"
     ]
    }
   ],
   "source": [
    "_ = Summarize_Given_Document(input_doc=r\"../docs\\ryanair_conditions.pdf\")"
   ]
  },
  {
   "cell_type": "code",
   "execution_count": null,
   "metadata": {},
   "outputs": [],
   "source": []
  },
  {
   "cell_type": "code",
   "execution_count": null,
   "metadata": {},
   "outputs": [],
   "source": []
  },
  {
   "attachments": {},
   "cell_type": "markdown",
   "metadata": {},
   "source": [
    "### Test reading in files for `streamlit`"
   ]
  },
  {
   "cell_type": "code",
   "execution_count": 2,
   "metadata": {},
   "outputs": [],
   "source": [
    "from io import BytesIO\n",
    "from pypdf import PdfReader"
   ]
  },
  {
   "cell_type": "code",
   "execution_count": 35,
   "metadata": {},
   "outputs": [],
   "source": [
    "f = '../docs/easyjet_conditions.pdf'\n",
    "ff = PdfReader(f)"
   ]
  },
  {
   "cell_type": "code",
   "execution_count": 3,
   "metadata": {},
   "outputs": [],
   "source": [
    "text_splitter = RecursiveCharacterTextSplitter(chunk_size = 1500, chunk_overlap = 200)"
   ]
  },
  {
   "cell_type": "code",
   "execution_count": 39,
   "metadata": {},
   "outputs": [],
   "source": [
    "def load_pdf(pdf_as_bytes, splitter = text_splitter):\n",
    "\n",
    "    text = ''\n",
    "    DOCS = []\n",
    "\n",
    "    for pagenum, page in enumerate(pdf_as_bytes.pages):\n",
    "\n",
    "        page_text = page.extract_text()\n",
    "\n",
    "        text += page_text\n",
    "\n",
    "        text_splitted = splitter.split_text(page_text)\n",
    "        docs = [Document(page_content=t, metadata={'source' : 'f', 'page' : str(pagenum+1)}) for t in text_splitted]\n",
    "        DOCS.append(docs)\n",
    "\n",
    "    DOCS = [item for sublist in DOCS for item in sublist]\n",
    "\n",
    "    return DOCS, text"
   ]
  },
  {
   "cell_type": "code",
   "execution_count": 40,
   "metadata": {},
   "outputs": [],
   "source": [
    "DOCS, whole_text = load_pdf(ff)"
   ]
  },
  {
   "cell_type": "code",
   "execution_count": 4,
   "metadata": {},
   "outputs": [],
   "source": [
    "import docx2txt"
   ]
  },
  {
   "cell_type": "code",
   "execution_count": 5,
   "metadata": {},
   "outputs": [],
   "source": [
    "def load_docx(file, splitter = text_splitter, filename = 'txt'):\n",
    "\n",
    "    DOCS = []\n",
    "\n",
    "    text = docx2txt.process(file) \n",
    "    text = re.sub(r\"\\n\\s*\\n\", \"\\n\\n\", text)\n",
    "\n",
    "    text_splitted = splitter.split_text(text)\n",
    "    docs = [Document(page_content=t, metadata={'source' : filename, 'page' : 'all'}) for t in text_splitted]\n",
    "    DOCS.append(docs)\n",
    "\n",
    "    DOCS = [item for sublist in DOCS for item in sublist]\n",
    "\n",
    "    return DOCS"
   ]
  },
  {
   "cell_type": "code",
   "execution_count": 6,
   "metadata": {},
   "outputs": [],
   "source": [
    "path = '../../openAI_experiments/docs/FakeRewrittenPressRelease.docx'"
   ]
  },
  {
   "cell_type": "code",
   "execution_count": 7,
   "metadata": {},
   "outputs": [],
   "source": [
    "i = load_docx(path)"
   ]
  },
  {
   "cell_type": "code",
   "execution_count": 9,
   "metadata": {},
   "outputs": [],
   "source": [
    "i=docx2txt.process(path) "
   ]
  },
  {
   "cell_type": "code",
   "execution_count": 10,
   "metadata": {},
   "outputs": [
    {
     "data": {
      "text/plain": [
       "\"June 8, 2023\\n\\n\\nTOZO Introduces Zivpad 17 OLED: An AI-Powered Marvel Fueled by BNE Tiger G-Series Chips\\n\\nA 17-inch laptop designed for daily use, featuring striking visuals and seamless performance, powered by up to four BNE Tiger 8000 G-Series AI-enabled processors.\\n\\nPowerhouse Performance: Four BNE Tiger™ 8000 G-Series AI-enabled processors, 32GB RAM, 1.5TB SSD, ColdKnife fan, dual-vent cooling, WiFi 6E\\n\\nExceptional Visuals: Pioneering 3.4K, 120Hz OLED Pantone® Validated 560-nit NanoEdge display with a complete DCI-P3 color gamut.\\n\\nErgonomic Design: Compact and lightweight; metallic finish; 180° lay-flat hinge; webcam shield; TOZO Ergo keyboard; TOZO Super Antimicrobial Guard\\n\\nEnhanced Conferencing: Superior video and audio via TOZO 3D Noise Reduction and TOZO AI-powered noise-canceling audio technology\\n\\nEco-friendly and Robust: 100% recyclable packaging; exceeds ENERGY STAR® requirements; US MIL-STD-810H military-grade toughness\\n\\nDenver, Colorado, June 8, 2023 —\\xa0TOZO has unveiled its redefined Zivpad 16 OLED, a sleek, lightweight laptop equipped with an AI-enabled BNE Tiger™ 8000 G-Series processor, built to effortlessly handle daily entertainment and productivity tasks.\\n\\nPowerhouse Performance\\n\\nThe Zivpad 17 OLED, with its state-of-the-art features, guarantees superior performance through its four BNE Tiger™ 8000 G-Series processors, 32GB RAM, and up to a 1.5TB SSD. The dual-vented cooling system, featuring two heat pipes and a ColdKnife fan, ensures efficient and quiet cooling. Enhanced mobility is provided by a robust battery of up to 80Wh, alongside the ultra-fast WiFi 6E for seamless connectivity.\\n\\nExceptional Visuals\\n\\n\\n\\nThe Zivpad 17 OLED presents a visual feast to its users with its leading 3.4K, 120 Hz OLED Pantone® Validated 560-nit NanoEdge display. Offering a breathtaking contrast ratio of up to 1,000,000:1 and a screen-to-body ratio of up to 86.5%, this device makes every viewing session a memorable experience.\\n\\n\\n\\nErgonomic Design\\n\\n\\n\\nBoasting a streamlined, user-friendly design, the laptop is slim and lightweight, offering mobility without compromising on performance. Its eye-catching metallic finish, lay-flat 180° hinge, and a physical webcam shield underscore its sophisticated design. Additional features include the full-size TOZO Ergo keyboard and the advanced TOZO Super Antimicrobial Guard.\\n\\n\\n\\nAdvanced Conferencing\\n\\n\\n\\nThe Zivpad 17 OLED comes equipped with smart conferencing capabilities such as TOZO 3D Noise Reduction and TOZO AI-powered noise-canceling audio technology, ensuring clearer video and audio for smooth communications.\\n\\n\\n\\nSustainable and Durable\\n\\n\\n\\nLiving up to TOZO's commitment to sustainability, the laptop packaging is 100% recyclable, and it outperforms the ENERGY STAR® requirements in terms of efficiency. Also, it has been tested to the rigorous US MIL-STD-810H military-grade standard to validate its durability.\\n\\n\\n\\nHigh-powered Processing\\n\\n\\n\\nUnder the hood, the Zivpad 17 OLED is powered by up to four BNE Tiger 8000 G-Series processors, accompanied by up to 32 GB of 4800 MHz DDR5 memory and a rapid 1.5 TB SSD. These processors, the first Windows x86 chips to integrate a BNE AI Engine, are capable of real-time video processing, multitasking, and extending battery life. The cooling system, featuring dual air vents, two heat pipes, and a TOZO CoolKnife fan, ensures the laptop performs optimally at all times.\\n\\n\\n\\nSpectacular Display\\n\\n\\n\\nThe 3.4K OLED HDR three-sided NanoEdge display of the Zivpad 17 OLED offers vibrant colors thanks to a cinema-grade 100% DCI-P3 color gamut. The laptop also provides professional-grade color accuracy with Pantone validation, and its low blue-light emissions are certified by TÜV Rheinland. Its 120 Hz refresh rate and 0.2 ms response time make it perfect for a range of tasks, from casual gaming to everyday productivity.\\n\\n\\n\\nLightweight and Portable Design\\n\\n\\n\\nIn terms of design, the Zivpad 17 OLED stands out with its sleek geometric shape, raised Zivpad logo on the lid, and a distinctive Enter key design. Weighing less than most laptops in its class, the Zivpad 17 OLED is portable and perfect for on-the-go usage. The 180° hinge and the webcam shield further enhance privacy and collaborative usage. The full-size TOZO Ergo keyboard offers an unparalleled typing experience, and the array of I/O ports ensure hassle-free connectivity with multiple devices.\\n\\n\\n\\nInclusive Software and User-Friendly Apps\\n\\n\\n\\nThe laptop comes bundled with a free one-month subscription to Adobe® Creative Cloud®, along with various user-friendly TOZO apps. Superior conferencing features include the TOZO 3DNR video-processing technology and AI noise-canceling audio technology, both ensuring an exceptional remote-working and video-conferencing experience.\\n\\n\\n\\nEco-friendly and Robust Construction\\n\\n\\n\\nZivpad 17 OLED is built using 30% post-consumer recycled (PCR) plastics, reiterating TOZO's commitment to the environment. It outperforms the ENERGY STAR power-efficiency standard, and its durability has been proven through testing to the latest MIL-STD-810H US military-grade standard, employing the most rigorous testing protocols in the industry.\\xa0\\n\\n\\n\\n[i]\\xa0Specifications, features, and options can vary depending on the model. Please visit the TOZO website for more information.\\n\\n[ii]\\xa0Areas covered by the TOZO Antibacterial Guard can vary depending on the model. Please visit the TOZO website for more information.\\n\\n[iii]\\xa0Testing was carried out by an independent third-party laboratory following the ISO 22196 standard (Measurement of antibacterial activity on plastics and other non-porous surfaces). Clinical testing using the ISO 21702 and ISO 22196 standard protocol showed that viral and bacterial growth was inhibited by 99% over a 24-hour period. ISO 21702 tests for COVID-19, H3N2, H1N1 and ISO 22196 tests for Staphylococcus and E. coli. A 99% reduction in potentially harmful microorganisms is defined as the number of viruses and bacteria on the surface dropping from 1,000,000 (cfu/pfu) to 100 (cfu/pfu).\""
      ]
     },
     "execution_count": 10,
     "metadata": {},
     "output_type": "execute_result"
    }
   ],
   "source": [
    "docx2txt.process()"
   ]
  },
  {
   "cell_type": "code",
   "execution_count": null,
   "metadata": {},
   "outputs": [],
   "source": []
  },
  {
   "cell_type": "code",
   "execution_count": 53,
   "metadata": {},
   "outputs": [],
   "source": [
    "from langchain.document_loaders import PyPDFLoader, UnstructuredHTMLLoader, UnstructuredFileLoader"
   ]
  },
  {
   "cell_type": "code",
   "execution_count": 24,
   "metadata": {},
   "outputs": [],
   "source": [
    "from langchain.text_splitter import MarkdownTextSplitter"
   ]
  },
  {
   "cell_type": "code",
   "execution_count": 28,
   "metadata": {},
   "outputs": [],
   "source": [
    "html_splitter = RecursiveCharacterTextSplitter.from_language(language=Language.MARKDOWN, chunk_size=1500, chunk_overlap=200)\n",
    "markdown_splitter = MarkdownTextSplitter()"
   ]
  },
  {
   "cell_type": "code",
   "execution_count": 29,
   "metadata": {},
   "outputs": [],
   "source": [
    "def load_HTML(file, splitter = html_splitter, filename = 'html'):\n",
    "\n",
    "    DOCS = []\n",
    "\n",
    "    text = open(file, 'r', encoding = 'utf-8').read()\n",
    "    text = re.sub(r\"\\n\\s*\\n\", \"\\n\\n\", text)\n",
    "\n",
    "    text_splitted = splitter.split_text(text)\n",
    "    docs = [Document(page_content=t, metadata={'source' : filename, 'page' : 'all'}) for t in text_splitted]\n",
    "    DOCS.append(docs)\n",
    "\n",
    "    DOCS = [item for sublist in DOCS for item in sublist]\n",
    "\n",
    "    return DOCS"
   ]
  },
  {
   "cell_type": "code",
   "execution_count": 30,
   "metadata": {},
   "outputs": [],
   "source": [
    "path = '../../openAI_experiments/docs/docs_to_index/Booking.com_ Terms and Conditions..html'"
   ]
  },
  {
   "cell_type": "code",
   "execution_count": 33,
   "metadata": {},
   "outputs": [],
   "source": [
    "text = open(path, 'r', encoding = 'utf-8').read()"
   ]
  },
  {
   "cell_type": "code",
   "execution_count": 64,
   "metadata": {},
   "outputs": [],
   "source": [
    "from bs4 import BeautifulSoup"
   ]
  },
  {
   "cell_type": "code",
   "execution_count": 65,
   "metadata": {},
   "outputs": [],
   "source": [
    "def clean_HTML(html):\n",
    "\n",
    "    soup = BeautifulSoup(html, features=\"html.parser\")\n",
    "\n",
    "    # kill all script and style elements\n",
    "    for script in soup([\"script\", \"style\"]):\n",
    "        script.extract()    # rip it out\n",
    "\n",
    "    # get text\n",
    "    text = soup.get_text()\n",
    "\n",
    "    # break into lines and remove leading and trailing space on each\n",
    "    lines = (line.strip() for line in text.splitlines())\n",
    "    # break multi-headlines into a line each\n",
    "    chunks = (phrase.strip() for line in lines for phrase in line.split(\"  \"))\n",
    "    # drop blank lines\n",
    "    text = '\\n'.join(chunk for chunk in chunks if chunk)\n",
    "\n",
    "    print(text)"
   ]
  },
  {
   "cell_type": "code",
   "execution_count": null,
   "metadata": {},
   "outputs": [],
   "source": [
    "clean_HTML(text)"
   ]
  },
  {
   "cell_type": "code",
   "execution_count": null,
   "metadata": {},
   "outputs": [],
   "source": []
  },
  {
   "cell_type": "code",
   "execution_count": null,
   "metadata": {},
   "outputs": [],
   "source": []
  },
  {
   "cell_type": "code",
   "execution_count": 2,
   "metadata": {},
   "outputs": [],
   "source": []
  },
  {
   "cell_type": "code",
   "execution_count": 33,
   "metadata": {},
   "outputs": [],
   "source": [
    "PRICING = {'gpt-3.5-turbo' : {'input_tokens' : 0.0015, 'output_tokens' : 0.002},\n",
    "           'gpt-3.5-turbo-16k' : {'input_tokens' : 0.003, 'output_tokens' : 0.004},\n",
    "           'gpt-4' : {'input_tokens' : 0.03, 'output_tokens' : 0.06},}\n",
    "\n",
    "NUM_OF_FILES = 100\n",
    "PAGES_PER_FILE = 10\n",
    "\n",
    "WORDS_PER_PAGE = 500\n",
    "TOKEN_TO_WORDS = 0.75\n",
    "\n",
    "AVG_PROMPT_MESSAGE = 250\n",
    "AVG_COMPLETION_LENGTH = 300\n",
    "\n",
    "TOTAL_INPUT_TOKENS = NUM_OF_FILES * PAGES_PER_FILE * (WORDS_PER_PAGE / TOKEN_TO_WORDS) + AVG_PROMPT_MESSAGE\n",
    "TOTAL_OUTPUT_TOKENS = AVG_COMPLETION_LENGTH"
   ]
  },
  {
   "cell_type": "code",
   "execution_count": 5,
   "metadata": {},
   "outputs": [
    {
     "name": "stdout",
     "output_type": "stream",
     "text": [
      "Total number input words: 500000\n"
     ]
    }
   ],
   "source": [
    "print('Total number input words:', NUM_OF_FILES * PAGES_PER_FILE * WORDS_PER_PAGE)"
   ]
  },
  {
   "cell_type": "code",
   "execution_count": 18,
   "metadata": {},
   "outputs": [],
   "source": [
    "plot_dict = {'Models': PRICING.keys(), \n",
    "             'Input price ($)': [round(i['input_tokens'] * TOTAL_INPUT_TOKENS / 1000, 4) for i in PRICING.values()], \n",
    "             'Output price ($)': [round(i['output_tokens'] * TOTAL_OUTPUT_TOKENS / 1000, 4) for i in PRICING.values()]}"
   ]
  },
  {
   "cell_type": "code",
   "execution_count": 19,
   "metadata": {},
   "outputs": [],
   "source": [
    "import plotly.express as px"
   ]
  },
  {
   "cell_type": "code",
   "execution_count": 32,
   "metadata": {},
   "outputs": [
    {
     "data": {
      "application/vnd.plotly.v1+json": {
       "config": {
        "plotlyServerURL": "https://plot.ly"
       },
       "data": [
        {
         "alignmentgroup": "True",
         "hovertemplate": "variable=Input price ($)<br>Price in USD=%{x}<br>Models=%{y}<extra></extra>",
         "legendgroup": "Input price ($)",
         "marker": {
          "color": "#636efa",
          "pattern": {
           "shape": ""
          }
         },
         "name": "Input price ($)",
         "offsetgroup": "Input price ($)",
         "orientation": "h",
         "showlegend": true,
         "textposition": "auto",
         "texttemplate": "%{x}",
         "type": "bar",
         "x": [
          1.0004,
          2.0008,
          20.0075
         ],
         "xaxis": "x",
         "y": [
          "gpt-3.5-turbo",
          "gpt-3.5-turbo-16k",
          "gpt-4"
         ],
         "yaxis": "y"
        },
        {
         "alignmentgroup": "True",
         "hovertemplate": "variable=Output price ($)<br>Price in USD=%{x}<br>Models=%{y}<extra></extra>",
         "legendgroup": "Output price ($)",
         "marker": {
          "color": "#EF553B",
          "pattern": {
           "shape": ""
          }
         },
         "name": "Output price ($)",
         "offsetgroup": "Output price ($)",
         "orientation": "h",
         "showlegend": true,
         "textposition": "auto",
         "texttemplate": "%{x}",
         "type": "bar",
         "x": [
          0.0006,
          0.0012,
          0.018
         ],
         "xaxis": "x",
         "y": [
          "gpt-3.5-turbo",
          "gpt-3.5-turbo-16k",
          "gpt-4"
         ],
         "yaxis": "y"
        }
       ],
       "layout": {
        "barmode": "relative",
        "height": 400,
        "legend": {
         "orientation": "h",
         "title": {
          "text": "Token category"
         },
         "tracegroupgap": 0,
         "x": 1,
         "xanchor": "right",
         "y": -0.5,
         "yanchor": "bottom"
        },
        "template": {
         "data": {
          "bar": [
           {
            "error_x": {
             "color": "#2a3f5f"
            },
            "error_y": {
             "color": "#2a3f5f"
            },
            "marker": {
             "line": {
              "color": "white",
              "width": 0.5
             },
             "pattern": {
              "fillmode": "overlay",
              "size": 10,
              "solidity": 0.2
             }
            },
            "type": "bar"
           }
          ],
          "barpolar": [
           {
            "marker": {
             "line": {
              "color": "white",
              "width": 0.5
             },
             "pattern": {
              "fillmode": "overlay",
              "size": 10,
              "solidity": 0.2
             }
            },
            "type": "barpolar"
           }
          ],
          "carpet": [
           {
            "aaxis": {
             "endlinecolor": "#2a3f5f",
             "gridcolor": "#C8D4E3",
             "linecolor": "#C8D4E3",
             "minorgridcolor": "#C8D4E3",
             "startlinecolor": "#2a3f5f"
            },
            "baxis": {
             "endlinecolor": "#2a3f5f",
             "gridcolor": "#C8D4E3",
             "linecolor": "#C8D4E3",
             "minorgridcolor": "#C8D4E3",
             "startlinecolor": "#2a3f5f"
            },
            "type": "carpet"
           }
          ],
          "choropleth": [
           {
            "colorbar": {
             "outlinewidth": 0,
             "ticks": ""
            },
            "type": "choropleth"
           }
          ],
          "contour": [
           {
            "colorbar": {
             "outlinewidth": 0,
             "ticks": ""
            },
            "colorscale": [
             [
              0,
              "#0d0887"
             ],
             [
              0.1111111111111111,
              "#46039f"
             ],
             [
              0.2222222222222222,
              "#7201a8"
             ],
             [
              0.3333333333333333,
              "#9c179e"
             ],
             [
              0.4444444444444444,
              "#bd3786"
             ],
             [
              0.5555555555555556,
              "#d8576b"
             ],
             [
              0.6666666666666666,
              "#ed7953"
             ],
             [
              0.7777777777777778,
              "#fb9f3a"
             ],
             [
              0.8888888888888888,
              "#fdca26"
             ],
             [
              1,
              "#f0f921"
             ]
            ],
            "type": "contour"
           }
          ],
          "contourcarpet": [
           {
            "colorbar": {
             "outlinewidth": 0,
             "ticks": ""
            },
            "type": "contourcarpet"
           }
          ],
          "heatmap": [
           {
            "colorbar": {
             "outlinewidth": 0,
             "ticks": ""
            },
            "colorscale": [
             [
              0,
              "#0d0887"
             ],
             [
              0.1111111111111111,
              "#46039f"
             ],
             [
              0.2222222222222222,
              "#7201a8"
             ],
             [
              0.3333333333333333,
              "#9c179e"
             ],
             [
              0.4444444444444444,
              "#bd3786"
             ],
             [
              0.5555555555555556,
              "#d8576b"
             ],
             [
              0.6666666666666666,
              "#ed7953"
             ],
             [
              0.7777777777777778,
              "#fb9f3a"
             ],
             [
              0.8888888888888888,
              "#fdca26"
             ],
             [
              1,
              "#f0f921"
             ]
            ],
            "type": "heatmap"
           }
          ],
          "heatmapgl": [
           {
            "colorbar": {
             "outlinewidth": 0,
             "ticks": ""
            },
            "colorscale": [
             [
              0,
              "#0d0887"
             ],
             [
              0.1111111111111111,
              "#46039f"
             ],
             [
              0.2222222222222222,
              "#7201a8"
             ],
             [
              0.3333333333333333,
              "#9c179e"
             ],
             [
              0.4444444444444444,
              "#bd3786"
             ],
             [
              0.5555555555555556,
              "#d8576b"
             ],
             [
              0.6666666666666666,
              "#ed7953"
             ],
             [
              0.7777777777777778,
              "#fb9f3a"
             ],
             [
              0.8888888888888888,
              "#fdca26"
             ],
             [
              1,
              "#f0f921"
             ]
            ],
            "type": "heatmapgl"
           }
          ],
          "histogram": [
           {
            "marker": {
             "pattern": {
              "fillmode": "overlay",
              "size": 10,
              "solidity": 0.2
             }
            },
            "type": "histogram"
           }
          ],
          "histogram2d": [
           {
            "colorbar": {
             "outlinewidth": 0,
             "ticks": ""
            },
            "colorscale": [
             [
              0,
              "#0d0887"
             ],
             [
              0.1111111111111111,
              "#46039f"
             ],
             [
              0.2222222222222222,
              "#7201a8"
             ],
             [
              0.3333333333333333,
              "#9c179e"
             ],
             [
              0.4444444444444444,
              "#bd3786"
             ],
             [
              0.5555555555555556,
              "#d8576b"
             ],
             [
              0.6666666666666666,
              "#ed7953"
             ],
             [
              0.7777777777777778,
              "#fb9f3a"
             ],
             [
              0.8888888888888888,
              "#fdca26"
             ],
             [
              1,
              "#f0f921"
             ]
            ],
            "type": "histogram2d"
           }
          ],
          "histogram2dcontour": [
           {
            "colorbar": {
             "outlinewidth": 0,
             "ticks": ""
            },
            "colorscale": [
             [
              0,
              "#0d0887"
             ],
             [
              0.1111111111111111,
              "#46039f"
             ],
             [
              0.2222222222222222,
              "#7201a8"
             ],
             [
              0.3333333333333333,
              "#9c179e"
             ],
             [
              0.4444444444444444,
              "#bd3786"
             ],
             [
              0.5555555555555556,
              "#d8576b"
             ],
             [
              0.6666666666666666,
              "#ed7953"
             ],
             [
              0.7777777777777778,
              "#fb9f3a"
             ],
             [
              0.8888888888888888,
              "#fdca26"
             ],
             [
              1,
              "#f0f921"
             ]
            ],
            "type": "histogram2dcontour"
           }
          ],
          "mesh3d": [
           {
            "colorbar": {
             "outlinewidth": 0,
             "ticks": ""
            },
            "type": "mesh3d"
           }
          ],
          "parcoords": [
           {
            "line": {
             "colorbar": {
              "outlinewidth": 0,
              "ticks": ""
             }
            },
            "type": "parcoords"
           }
          ],
          "pie": [
           {
            "automargin": true,
            "type": "pie"
           }
          ],
          "scatter": [
           {
            "fillpattern": {
             "fillmode": "overlay",
             "size": 10,
             "solidity": 0.2
            },
            "type": "scatter"
           }
          ],
          "scatter3d": [
           {
            "line": {
             "colorbar": {
              "outlinewidth": 0,
              "ticks": ""
             }
            },
            "marker": {
             "colorbar": {
              "outlinewidth": 0,
              "ticks": ""
             }
            },
            "type": "scatter3d"
           }
          ],
          "scattercarpet": [
           {
            "marker": {
             "colorbar": {
              "outlinewidth": 0,
              "ticks": ""
             }
            },
            "type": "scattercarpet"
           }
          ],
          "scattergeo": [
           {
            "marker": {
             "colorbar": {
              "outlinewidth": 0,
              "ticks": ""
             }
            },
            "type": "scattergeo"
           }
          ],
          "scattergl": [
           {
            "marker": {
             "colorbar": {
              "outlinewidth": 0,
              "ticks": ""
             }
            },
            "type": "scattergl"
           }
          ],
          "scattermapbox": [
           {
            "marker": {
             "colorbar": {
              "outlinewidth": 0,
              "ticks": ""
             }
            },
            "type": "scattermapbox"
           }
          ],
          "scatterpolar": [
           {
            "marker": {
             "colorbar": {
              "outlinewidth": 0,
              "ticks": ""
             }
            },
            "type": "scatterpolar"
           }
          ],
          "scatterpolargl": [
           {
            "marker": {
             "colorbar": {
              "outlinewidth": 0,
              "ticks": ""
             }
            },
            "type": "scatterpolargl"
           }
          ],
          "scatterternary": [
           {
            "marker": {
             "colorbar": {
              "outlinewidth": 0,
              "ticks": ""
             }
            },
            "type": "scatterternary"
           }
          ],
          "surface": [
           {
            "colorbar": {
             "outlinewidth": 0,
             "ticks": ""
            },
            "colorscale": [
             [
              0,
              "#0d0887"
             ],
             [
              0.1111111111111111,
              "#46039f"
             ],
             [
              0.2222222222222222,
              "#7201a8"
             ],
             [
              0.3333333333333333,
              "#9c179e"
             ],
             [
              0.4444444444444444,
              "#bd3786"
             ],
             [
              0.5555555555555556,
              "#d8576b"
             ],
             [
              0.6666666666666666,
              "#ed7953"
             ],
             [
              0.7777777777777778,
              "#fb9f3a"
             ],
             [
              0.8888888888888888,
              "#fdca26"
             ],
             [
              1,
              "#f0f921"
             ]
            ],
            "type": "surface"
           }
          ],
          "table": [
           {
            "cells": {
             "fill": {
              "color": "#EBF0F8"
             },
             "line": {
              "color": "white"
             }
            },
            "header": {
             "fill": {
              "color": "#C8D4E3"
             },
             "line": {
              "color": "white"
             }
            },
            "type": "table"
           }
          ]
         },
         "layout": {
          "annotationdefaults": {
           "arrowcolor": "#2a3f5f",
           "arrowhead": 0,
           "arrowwidth": 1
          },
          "autotypenumbers": "strict",
          "coloraxis": {
           "colorbar": {
            "outlinewidth": 0,
            "ticks": ""
           }
          },
          "colorscale": {
           "diverging": [
            [
             0,
             "#8e0152"
            ],
            [
             0.1,
             "#c51b7d"
            ],
            [
             0.2,
             "#de77ae"
            ],
            [
             0.3,
             "#f1b6da"
            ],
            [
             0.4,
             "#fde0ef"
            ],
            [
             0.5,
             "#f7f7f7"
            ],
            [
             0.6,
             "#e6f5d0"
            ],
            [
             0.7,
             "#b8e186"
            ],
            [
             0.8,
             "#7fbc41"
            ],
            [
             0.9,
             "#4d9221"
            ],
            [
             1,
             "#276419"
            ]
           ],
           "sequential": [
            [
             0,
             "#0d0887"
            ],
            [
             0.1111111111111111,
             "#46039f"
            ],
            [
             0.2222222222222222,
             "#7201a8"
            ],
            [
             0.3333333333333333,
             "#9c179e"
            ],
            [
             0.4444444444444444,
             "#bd3786"
            ],
            [
             0.5555555555555556,
             "#d8576b"
            ],
            [
             0.6666666666666666,
             "#ed7953"
            ],
            [
             0.7777777777777778,
             "#fb9f3a"
            ],
            [
             0.8888888888888888,
             "#fdca26"
            ],
            [
             1,
             "#f0f921"
            ]
           ],
           "sequentialminus": [
            [
             0,
             "#0d0887"
            ],
            [
             0.1111111111111111,
             "#46039f"
            ],
            [
             0.2222222222222222,
             "#7201a8"
            ],
            [
             0.3333333333333333,
             "#9c179e"
            ],
            [
             0.4444444444444444,
             "#bd3786"
            ],
            [
             0.5555555555555556,
             "#d8576b"
            ],
            [
             0.6666666666666666,
             "#ed7953"
            ],
            [
             0.7777777777777778,
             "#fb9f3a"
            ],
            [
             0.8888888888888888,
             "#fdca26"
            ],
            [
             1,
             "#f0f921"
            ]
           ]
          },
          "colorway": [
           "#636efa",
           "#EF553B",
           "#00cc96",
           "#ab63fa",
           "#FFA15A",
           "#19d3f3",
           "#FF6692",
           "#B6E880",
           "#FF97FF",
           "#FECB52"
          ],
          "font": {
           "color": "#2a3f5f"
          },
          "geo": {
           "bgcolor": "white",
           "lakecolor": "white",
           "landcolor": "white",
           "showlakes": true,
           "showland": true,
           "subunitcolor": "#C8D4E3"
          },
          "hoverlabel": {
           "align": "left"
          },
          "hovermode": "closest",
          "mapbox": {
           "style": "light"
          },
          "paper_bgcolor": "white",
          "plot_bgcolor": "white",
          "polar": {
           "angularaxis": {
            "gridcolor": "#EBF0F8",
            "linecolor": "#EBF0F8",
            "ticks": ""
           },
           "bgcolor": "white",
           "radialaxis": {
            "gridcolor": "#EBF0F8",
            "linecolor": "#EBF0F8",
            "ticks": ""
           }
          },
          "scene": {
           "xaxis": {
            "backgroundcolor": "white",
            "gridcolor": "#DFE8F3",
            "gridwidth": 2,
            "linecolor": "#EBF0F8",
            "showbackground": true,
            "ticks": "",
            "zerolinecolor": "#EBF0F8"
           },
           "yaxis": {
            "backgroundcolor": "white",
            "gridcolor": "#DFE8F3",
            "gridwidth": 2,
            "linecolor": "#EBF0F8",
            "showbackground": true,
            "ticks": "",
            "zerolinecolor": "#EBF0F8"
           },
           "zaxis": {
            "backgroundcolor": "white",
            "gridcolor": "#DFE8F3",
            "gridwidth": 2,
            "linecolor": "#EBF0F8",
            "showbackground": true,
            "ticks": "",
            "zerolinecolor": "#EBF0F8"
           }
          },
          "shapedefaults": {
           "line": {
            "color": "#2a3f5f"
           }
          },
          "ternary": {
           "aaxis": {
            "gridcolor": "#DFE8F3",
            "linecolor": "#A2B1C6",
            "ticks": ""
           },
           "baxis": {
            "gridcolor": "#DFE8F3",
            "linecolor": "#A2B1C6",
            "ticks": ""
           },
           "bgcolor": "white",
           "caxis": {
            "gridcolor": "#DFE8F3",
            "linecolor": "#A2B1C6",
            "ticks": ""
           }
          },
          "title": {
           "x": 0.05
          },
          "xaxis": {
           "automargin": true,
           "gridcolor": "#EBF0F8",
           "linecolor": "#EBF0F8",
           "ticks": "",
           "title": {
            "standoff": 15
           },
           "zerolinecolor": "#EBF0F8",
           "zerolinewidth": 2
          },
          "yaxis": {
           "automargin": true,
           "gridcolor": "#EBF0F8",
           "linecolor": "#EBF0F8",
           "ticks": "",
           "title": {
            "standoff": 15
           },
           "zerolinecolor": "#EBF0F8",
           "zerolinewidth": 2
          }
         }
        },
        "title": {
         "text": "Expected cost ($) associated with `OpenAI` models"
        },
        "width": 800,
        "xaxis": {
         "anchor": "y",
         "domain": [
          0,
          1
         ],
         "title": {
          "text": "Price in USD"
         },
         "type": "log"
        },
        "yaxis": {
         "anchor": "x",
         "domain": [
          0,
          1
         ],
         "title": {
          "text": "Models"
         }
        }
       }
      }
     },
     "metadata": {},
     "output_type": "display_data"
    }
   ],
   "source": [
    "fig = px.bar(plot_dict, y=\"Models\", \n",
    "             x=[\"Input price ($)\", \"Output price ($)\"], \n",
    "             title=\"Expected cost ($) associated with `OpenAI` models\", \n",
    "             text_auto=True, log_x=True, template = 'plotly_white',\n",
    "             height = 400, width = 800, labels = {'value' : 'Price in USD'})\n",
    "fig.update_layout(legend_title_text='Token category', \n",
    "                  legend = {'orientation' : 'h', 'xanchor' : 'right', 'yanchor' : 'bottom', 'y' : -0.5, 'x' : 1})\n",
    "fig.show()"
   ]
  },
  {
   "cell_type": "code",
   "execution_count": null,
   "metadata": {},
   "outputs": [],
   "source": []
  },
  {
   "cell_type": "code",
   "execution_count": null,
   "metadata": {},
   "outputs": [],
   "source": []
  },
  {
   "cell_type": "code",
   "execution_count": null,
   "metadata": {},
   "outputs": [],
   "source": []
  }
 ],
 "metadata": {
  "kernelspec": {
   "display_name": "Python 3 (ipykernel)",
   "language": "python",
   "name": "python3"
  },
  "language_info": {
   "codemirror_mode": {
    "name": "ipython",
    "version": 3
   },
   "file_extension": ".py",
   "mimetype": "text/x-python",
   "name": "python",
   "nbconvert_exporter": "python",
   "pygments_lexer": "ipython3",
   "version": "3.9.7"
  }
 },
 "nbformat": 4,
 "nbformat_minor": 2
}
